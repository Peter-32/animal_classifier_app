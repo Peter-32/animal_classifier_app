{
 "cells": [
  {
   "cell_type": "code",
   "execution_count": 32,
   "metadata": {},
   "outputs": [],
   "source": [
    "import os\n",
    "import shutil\n",
    "import subprocess\n",
    "root_path = os.getcwd().split('animal_classifier_app')[0] + 'animal_classifier_app/'\n",
    "data_path = f'{root_path}data/'\n",
    "automation_path = f'{root_path}automation/'\n"
   ]
  },
  {
   "cell_type": "code",
   "execution_count": 30,
   "metadata": {},
   "outputs": [
    {
     "name": "stdout",
     "output_type": "stream",
     "text": [
      "Downloading a 500MB file to this directory.  There is no way to check the progress, but it is definately downloading.  If you cancel it will show how far it got.\n",
      "b'Downloading animals10.zip to /Users/petermyers/Desktop/Programs/open_source/animal_classifier_app/automation\\n\\n'\n"
     ]
    }
   ],
   "source": [
    "# Download the data\n",
    "try:\n",
    "    os.remove('animals10.zip')\n",
    "except:\n",
    "    pass\n",
    "process = subprocess.Popen(\"kaggle datasets download alessiocorrado99/animals10\", shell=True, stdout = subprocess.PIPE)\n",
    "print(\"Downloading a 600MB file to this directory.  There is no way to check the progress, but it is definately downloading.  If you cancel it will show how far it got.\")\n",
    "while process.poll() is None:\n",
    "    result = process.stdout.read()\n",
    "    print(result)"
   ]
  },
  {
   "cell_type": "code",
   "execution_count": 33,
   "metadata": {},
   "outputs": [
    {
     "data": {
      "text/plain": [
       "'/Users/petermyers/Desktop/Programs/open_source/animal_classifier_app/data/animals10.zip'"
      ]
     },
     "execution_count": 33,
     "metadata": {},
     "output_type": "execute_result"
    }
   ],
   "source": [
    "# Move file to data directory\n",
    "shutil.move(f'{automation_path}animals10.zip', f'{data_path}animals10.zip')"
   ]
  },
  {
   "cell_type": "code",
   "execution_count": null,
   "metadata": {},
   "outputs": [],
   "source": [
    "# Unzip the data\n"
   ]
  }
 ],
 "metadata": {
  "kernelspec": {
   "display_name": "commons3",
   "language": "python",
   "name": "commons3"
  },
  "language_info": {
   "codemirror_mode": {
    "name": "ipython",
    "version": 3
   },
   "file_extension": ".py",
   "mimetype": "text/x-python",
   "name": "python",
   "nbconvert_exporter": "python",
   "pygments_lexer": "ipython3",
   "version": "3.8.5"
  }
 },
 "nbformat": 4,
 "nbformat_minor": 4
}
